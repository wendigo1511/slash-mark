{
 "cells": [
  {
   "cell_type": "code",
   "execution_count": 3,
   "id": "82ad2dd2",
   "metadata": {},
   "outputs": [
    {
     "name": "stdout",
     "output_type": "stream",
     "text": [
      "How many passwords do you want to generate? 2\n",
      "Generating 2 passwords\n",
      "Minimum length of password should be 3\n",
      "Enter the length of Password #1 4\n",
      "Enter the length of Password #2 6\n",
      "Password #1 = 8vJT\n",
      "Password #2 = 7fqnCq\n"
     ]
    }
   ],
   "source": [
    "import random\n",
    "\n",
    "def generate_password(pw_length):\n",
    " \n",
    "    alphabet = \"abcdefghijklmnopqrstuvwxyz\"\n",
    "    passwords = []\n",
    "\n",
    "    for length in pw_length:\n",
    "        password = \"\"\n",
    "        for _ in range(length):\n",
    "            next_letter_index = random.randrange(len(alphabet))\n",
    "            password += alphabet[next_letter_index]\n",
    "\n",
    "        password = replace_with_number(password)\n",
    "        password = replace_with_uppercase_letter(password)\n",
    "        passwords.append(password)\n",
    "\n",
    "    return passwords\n",
    "\n",
    "def replace_with_number(pword):\n",
    "\n",
    "    for _ in range(random.randrange(1, 3)):\n",
    "        replace_index = random.randrange(len(pword) // 2)\n",
    "        pword = pword[:replace_index] + str(random.randrange(10)) + pword[replace_index+1:]\n",
    "    return pword\n",
    "\n",
    "def replace_with_uppercase_letter(pword):\n",
    "  \n",
    "    for _ in range(random.randrange(1, 3)):\n",
    "        replace_index = random.randrange(len(pword) // 2, len(pword))\n",
    "        pword = pword[:replace_index] + pword[replace_index].upper() + pword[replace_index+1:]\n",
    "    return pword\n",
    "\n",
    "def main():\n",
    "   \n",
    "    num_passwords =int(input(\"How many passwords do you want to generate? \"))\n",
    "\n",
    "    print(f\"Generating {num_passwords} passwords\")\n",
    "\n",
    "    password_lengths = []\n",
    "\n",
    "    print(\"Minimum length of password should be 3\")\n",
    "\n",
    "    for i in range(num_passwords):\n",
    "        length = int(input(f\"Enter the length of Password #{i+1} \"))\n",
    "        if length < 3:\n",
    "            length = 3\n",
    "        password_lengths.append(length)\n",
    "\n",
    "    passwords = generate_password(password_lengths)\n",
    "\n",
    "    for i in range(num_passwords):\n",
    "        print(f\"Password #{i+1} = {passwords[i]}\")\n",
    "\n",
    "if __name__ == \"__main__\":\n",
    "    main()"
   ]
  },
  {
   "cell_type": "code",
   "execution_count": null,
   "id": "f349e943",
   "metadata": {},
   "outputs": [],
   "source": []
  }
 ],
 "metadata": {
  "kernelspec": {
   "display_name": "Python 3 (ipykernel)",
   "language": "python",
   "name": "python3"
  },
  "language_info": {
   "codemirror_mode": {
    "name": "ipython",
    "version": 3
   },
   "file_extension": ".py",
   "mimetype": "text/x-python",
   "name": "python",
   "nbconvert_exporter": "python",
   "pygments_lexer": "ipython3",
   "version": "3.9.13"
  }
 },
 "nbformat": 4,
 "nbformat_minor": 5
}
